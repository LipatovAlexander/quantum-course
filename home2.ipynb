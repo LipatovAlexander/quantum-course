{
 "cells": [
  {
   "cell_type": "code",
   "execution_count": 79,
   "metadata": {},
   "outputs": [],
   "source": [
    "import cirq\n",
    "import numpy as np\n",
    "\n",
    "\n",
    "class Balanced(cirq.Gate):\n",
    "    def __init__(self):\n",
    "        super(Balanced, self)\n",
    "\n",
    "    def _num_qubits_(self):\n",
    "        return 4\n",
    "\n",
    "    def _decompose_(self, qubits):\n",
    "        x1, x2, x3, y = qubits\n",
    "        yield cirq.CNOT(x1, y)\n",
    "        yield cirq.CNOT(x2, y)\n",
    "        yield cirq.CNOT(x3, y)\n",
    "\n",
    "    def _circuit_diagram_info_(self, args):\n",
    "        return [\"Balanced\"] * self.num_qubits()\n",
    "\n",
    "\n",
    "class Const(cirq.Gate):\n",
    "    def __init__(self):\n",
    "        super(Const, self)\n",
    "\n",
    "    def _num_qubits_(self):\n",
    "        return 4\n",
    "\n",
    "    def _decompose_(self, qubits):\n",
    "        x1, x2, x3, y = qubits\n",
    "        yield cirq.X(y)\n",
    "\n",
    "    def _circuit_diagram_info_(self, args):\n",
    "        return [\"Const\"] * self.num_qubits()"
   ]
  },
  {
   "cell_type": "code",
   "execution_count": 80,
   "metadata": {},
   "outputs": [],
   "source": [
    "def make_deutch_jozsa(gate):\n",
    "    qubits = [cirq.LineQubit(i) for i in range(4)]\n",
    "    circuit = cirq.Circuit()\n",
    "    circuit.append(cirq.H(qubits[0]))\n",
    "    circuit.append(cirq.H(qubits[1]))\n",
    "    circuit.append(cirq.H(qubits[2]))\n",
    "    circuit.append(cirq.H(qubits[3]))\n",
    "    circuit.append(gate.on_each(qubits))\n",
    "    circuit.append(cirq.H(qubits[0]))\n",
    "    circuit.append(cirq.H(qubits[1]))\n",
    "    circuit.append(cirq.H(qubits[2]))\n",
    "    circuit.append(cirq.measure(qubits[0], qubits[1], qubits[2]))\n",
    "    return circuit"
   ]
  },
  {
   "cell_type": "code",
   "execution_count": 81,
   "metadata": {},
   "outputs": [
    {
     "name": "stdout",
     "output_type": "stream",
     "text": [
      "0: ───H───Balanced───H───M───\n",
      "          │              │\n",
      "1: ───H───Balanced───H───M───\n",
      "          │              │\n",
      "2: ───H───Balanced───H───M───\n",
      "          │\n",
      "3: ───H───Balanced───────────\n",
      "\n",
      "measurements: q(0),q(1),q(2)=111\n",
      "\n",
      "qubits: (cirq.LineQubit(0),)\n",
      "output vector: |1⟩\n",
      "\n",
      "qubits: (cirq.LineQubit(1),)\n",
      "output vector: |1⟩\n",
      "\n",
      "qubits: (cirq.LineQubit(2),)\n",
      "output vector: |1⟩\n",
      "\n",
      "qubits: (cirq.LineQubit(3),)\n",
      "output vector: 0.707|0⟩ - 0.707|1⟩\n",
      "\n",
      "phase:\n",
      "output vector: |⟩\n"
     ]
    }
   ],
   "source": [
    "circuit = make_deutch_jozsa(Balanced())\n",
    "print(circuit)\n",
    "print()\n",
    "\n",
    "simulator = cirq.Simulator()\n",
    "# |0001> на входе\n",
    "initial_state = np.array([0, 1, 0, 0, 0, 0, 0, 0, 0, 0, 0, 0, 0, 0, 0, 0])\n",
    "result = simulator.simulate(circuit, initial_state=initial_state)\n",
    "\n",
    "print(result)\n",
    "# Функция сбалансированная, НЕ должны получить 000 на выходе"
   ]
  },
  {
   "cell_type": "code",
   "execution_count": 82,
   "metadata": {},
   "outputs": [
    {
     "name": "stdout",
     "output_type": "stream",
     "text": [
      "0: ───H───Const───H───M───\n",
      "          │           │\n",
      "1: ───H───Const───H───M───\n",
      "          │           │\n",
      "2: ───H───Const───H───M───\n",
      "          │\n",
      "3: ───H───Const───────────\n",
      "\n",
      "measurements: q(0),q(1),q(2)=000\n",
      "\n",
      "qubits: (cirq.LineQubit(0),)\n",
      "output vector: -1|0⟩\n",
      "\n",
      "qubits: (cirq.LineQubit(1),)\n",
      "output vector: |0⟩\n",
      "\n",
      "qubits: (cirq.LineQubit(2),)\n",
      "output vector: |0⟩\n",
      "\n",
      "qubits: (cirq.LineQubit(3),)\n",
      "output vector: 0.707|0⟩ - 0.707|1⟩\n",
      "\n",
      "phase:\n",
      "output vector: |⟩\n"
     ]
    }
   ],
   "source": [
    "circuit = make_deutch_jozsa(Const())\n",
    "print(circuit)\n",
    "print()\n",
    "\n",
    "simulator = cirq.Simulator()\n",
    "\n",
    "# |0001> на входе\n",
    "initial_state = np.array([0, 1, 0, 0, 0, 0, 0, 0, 0, 0, 0, 0, 0, 0, 0, 0])\n",
    "result = simulator.simulate(circuit, initial_state=initial_state)\n",
    "\n",
    "print(result)\n",
    "# Функция константная, должны получить 000 на выходе"
   ]
  }
 ],
 "metadata": {
  "kernelspec": {
   "display_name": "Python 3",
   "language": "python",
   "name": "python3"
  },
  "language_info": {
   "codemirror_mode": {
    "name": "ipython",
    "version": 3
   },
   "file_extension": ".py",
   "mimetype": "text/x-python",
   "name": "python",
   "nbconvert_exporter": "python",
   "pygments_lexer": "ipython3",
   "version": "3.10.11"
  }
 },
 "nbformat": 4,
 "nbformat_minor": 2
}
